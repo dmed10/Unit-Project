{
  "nbformat": 4,
  "nbformat_minor": 0,
  "metadata": {
    "colab": {
      "name": "Unit 1 Project Code",
      "provenance": [],
      "authorship_tag": "ABX9TyMV3/ITyqtuAQd+m2XLMtGL",
      "include_colab_link": true
    },
    "kernelspec": {
      "name": "python3",
      "display_name": "Python 3"
    },
    "language_info": {
      "name": "python"
    }
  },
  "cells": [
    {
      "cell_type": "markdown",
      "metadata": {
        "id": "view-in-github",
        "colab_type": "text"
      },
      "source": [
        "<a href=\"https://colab.research.google.com/github/dmed10/Unit-Project/blob/main/Unit_1_Project_Code.ipynb\" target=\"_parent\"><img src=\"https://colab.research.google.com/assets/colab-badge.svg\" alt=\"Open In Colab\"/></a>"
      ]
    },
    {
      "cell_type": "code",
      "metadata": {
        "colab": {
          "base_uri": "https://localhost:8080/"
        },
        "id": "YR80IRTZQsFw",
        "outputId": "415886b0-09dc-416f-ec87-ab9cb77fc80d"
      },
      "source": [
        "from google.colab import drive\n",
        "drive.mount('/content/drive')"
      ],
      "execution_count": 1,
      "outputs": [
        {
          "output_type": "stream",
          "name": "stdout",
          "text": [
            "Mounted at /content/drive\n"
          ]
        }
      ]
    },
    {
      "cell_type": "code",
      "metadata": {
        "id": "lQomzef0Q4A0"
      },
      "source": [
        "#Now lets import pandas and numpy\n",
        "#Lets go ahead and read in our CSV file\n",
        "\n",
        "import numpy as np\n",
        "import pandas as pd\n",
        "\n",
        "path = '/content/drive/MyDrive/EPL Standings 2010-2021 - EPL Standings 2010-2021.csv'\n",
        "\n",
        "df = pd.read_csv(path)\n",
        "\n",
        "#Now that we read it in lets print the shape\n",
        "#And print the first 5 rows of our DataFrame\n",
        "\n",
        "print(df.shape)\n",
        "display(df.head())"
      ],
      "execution_count": null,
      "outputs": []
    },
    {
      "cell_type": "code",
      "metadata": {
        "id": "bbQEAQTdRIon"
      },
      "source": [
        "Arsenal = df.loc[df['Team'] == 'Arsenal']\n",
        "Chelsea = df.loc[df['Team'] == 'Chelsea']\n",
        "\n",
        "display(Arsenal, Chelsea)\n",
        "\n",
        "df = pd.concat([Arsenal, Chelsea])"
      ],
      "execution_count": null,
      "outputs": []
    },
    {
      "cell_type": "code",
      "metadata": {
        "colab": {
          "base_uri": "https://localhost:8080/"
        },
        "id": "lsGENrvDbNzD",
        "outputId": "1127d1a2-fa85-494a-b4c7-ef87a0aa52bd"
      },
      "source": [
        "df.isnull().sum().sum()"
      ],
      "execution_count": 4,
      "outputs": [
        {
          "output_type": "execute_result",
          "data": {
            "text/plain": [
              "0"
            ]
          },
          "metadata": {},
          "execution_count": 4
        }
      ]
    },
    {
      "cell_type": "code",
      "metadata": {
        "colab": {
          "base_uri": "https://localhost:8080/"
        },
        "id": "gpbobULwaA9B",
        "outputId": "79c9a44e-cf7d-4b5d-a016-406062650441"
      },
      "source": [
        "print(Arsenal['GF'].mean())\n",
        "print(Chelsea['GF'].mean())\n"
      ],
      "execution_count": 5,
      "outputs": [
        {
          "output_type": "stream",
          "name": "stdout",
          "text": [
            "68.81818181818181\n",
            "68.0909090909091\n"
          ]
        }
      ]
    },
    {
      "cell_type": "code",
      "metadata": {
        "colab": {
          "base_uri": "https://localhost:8080/"
        },
        "id": "gLfGY4VSTodi",
        "outputId": "24a01c8e-e1d1-4cff-869b-6565f2043173"
      },
      "source": [
        "goals_arsenal = Arsenal['GF'].sum()\n",
        "goals_chelsea = Chelsea['GF'].sum()\n",
        "\n",
        "print(goals_arsenal, goals_chelsea)"
      ],
      "execution_count": 6,
      "outputs": [
        {
          "output_type": "stream",
          "name": "stdout",
          "text": [
            "757 749\n"
          ]
        }
      ]
    },
    {
      "cell_type": "code",
      "metadata": {
        "colab": {
          "base_uri": "https://localhost:8080/"
        },
        "id": "0sf_CBcQV94f",
        "outputId": "6b5face0-44fe-4b88-8ccc-6ac65458f2f9"
      },
      "source": [
        "from scipy import stats\n",
        "\n",
        "tstat, pval = stats.ttest_ind(Arsenal['GF'], Chelsea['GF'])\n",
        "print(tstat, pval)"
      ],
      "execution_count": 7,
      "outputs": [
        {
          "output_type": "stream",
          "name": "stdout",
          "text": [
            "0.22409754848426905 0.8249548008852913\n"
          ]
        }
      ]
    },
    {
      "cell_type": "code",
      "metadata": {
        "colab": {
          "base_uri": "https://localhost:8080/",
          "height": 299
        },
        "id": "lrvNZcKrW177",
        "outputId": "429a8124-7aa5-4589-829b-fbf1945e4854"
      },
      "source": [
        "import seaborn as sns\n",
        "\n",
        "sns.scatterplot(x = 'GF', y = 'GA', hue= 'Team', data = df)"
      ],
      "execution_count": null,
      "outputs": [
        {
          "output_type": "execute_result",
          "data": {
            "text/plain": [
              "<matplotlib.axes._subplots.AxesSubplot at 0x7fa6ecfbba90>"
            ]
          },
          "metadata": {},
          "execution_count": 32
        },
        {
          "output_type": "display_data",
          "data": {
            "image/png": "[encoded data removed]",
            "text/plain": [
              "<Figure size 432x288 with 1 Axes>"
            ]
          },
          "metadata": {
            "needs_background": "light"
          }
        }
      ]
    },
    {
      "cell_type": "code",
      "metadata": {
        "colab": {
          "base_uri": "https://localhost:8080/",
          "height": 312
        },
        "id": "s7QvMgycXAQK",
        "outputId": "8ddbb7cd-37dd-40ce-cbd2-6994ac412c67"
      },
      "source": [
        "import matplotlib.pyplot as plt\n",
        "\n",
        "fig, ax = plt.subplots()\n",
        "\n",
        "ax.hist([Arsenal['GF'], Chelsea['GF']], bins=5)\n",
        "\n",
        "ax.set_xlabel('Goals Scored')\n",
        "ax.set_ylabel('Frequency')\n",
        "ax.set_title('Arsenal vs Chelsea')"
      ],
      "execution_count": 8,
      "outputs": [
        {
          "output_type": "execute_result",
          "data": {
            "text/plain": [
              "Text(0.5, 1.0, 'Arsenal vs Chelsea')"
            ]
          },
          "metadata": {},
          "execution_count": 8
        },
        {
          "output_type": "display_data",
          "data": {
            "text/plain": [
              "<Figure size 432x288 with 1 Axes>"
            ],
            "image/png": "[encoded data removed]"
          },
          "metadata": {
            "needs_background": "light"
          }
        }
      ]
    }
  ]
}